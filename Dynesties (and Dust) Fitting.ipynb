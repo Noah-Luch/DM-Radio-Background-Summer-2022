{
 "cells": [
  {
   "cell_type": "code",
   "execution_count": 205,
   "id": "7698ae1a",
   "metadata": {},
   "outputs": [],
   "source": [
    "import numpy as np\n",
    "import healpy as hp\n",
    "import math\n",
    "import matplotlib.pyplot as plt\n",
    "import dynesty\n",
    "%matplotlib inline\n",
    "\n",
    "from astropy.io import fits\n",
    "from statistics import mean\n",
    "from scipy.optimize import curve_fit\n",
    "from astropy_healpix import HEALPix\n",
    "from tqdm import tqdm\n",
    "from scipy.optimize import fsolve\n",
    "from scipy.optimize import minimize\n",
    "from dynesty import utils as dyfunc\n",
    "from dynesty import utils as dyplot\n",
    "%run Function_defs.ipynb"
   ]
  },
  {
   "cell_type": "markdown",
   "id": "e0f12cf1",
   "metadata": {},
   "source": [
    "# Files"
   ]
  },
  {
   "cell_type": "code",
   "execution_count": 192,
   "id": "35b8b8bb",
   "metadata": {},
   "outputs": [],
   "source": [
    "files=[#[\"lambda_DRAO_22MHz_1_256.fits\",22,\"G\",False,[3000,5,5000]],\n",
    "       #[\"LWA Files/healpix-all-sky-rav-wsclean-map-35.fits\",35,\"C\",False,\"LWA Uncertainties/healpix-all-sky-rav-wsclean-err-35.fits\"],\n",
    "       #[\"LWA Files/healpix-all-sky-rav-wsclean-map-38.fits\",38,\"C\",False,\"LWA Uncertainties/healpix-all-sky-rav-wsclean-err-38.fits\"],\n",
    "       #[\"LWA Files/healpix-all-sky-rav-wsclean-map-40.fits\",40,\"C\",False,\"LWA Uncertainties/healpix-all-sky-rav-wsclean-err-40.fits\"],\n",
    "       #[\"LWA Files/healpix-all-sky-rav-wsclean-map-45.fits\",45,\"C\",False,\"LWA Uncertainties/healpix-all-sky-rav-wsclean-err-45.fits\"],\n",
    "       #[\"MAIPU_MU_1_64.fits\",45,\"G\",False,[300,10,544]],\n",
    "       #[\"LWA Files/healpix-all-sky-rav-wsclean-map-50.fits\",50,\"C\",False,\"LWA Uncertainties/healpix-all-sky-rav-wsclean-err-50.fits\"],\n",
    "       #[\"LWA Files/healpix-all-sky-rav-wsclean-map-60.fits\",60,\"C\",False,\"LWA Uncertainties/healpix-all-sky-rav-wsclean-err-60.fits\"],\n",
    "       #[\"LWA Files/healpix-all-sky-rav-wsclean-map-70.fits\",70,\"C\",False,\"LWA Uncertainties/healpix-all-sky-rav-wsclean-err-70.fits\"],\n",
    "       #[\"LWA Files/healpix-all-sky-rav-wsclean-map-74.fits\",74,\"C\",False,\"LWA Uncertainties/healpix-all-sky-rav-wsclean-err-74.fits\"],\n",
    "       #[\"LWA Files/healpix-all-sky-rav-wsclean-map-80.fits\",80,\"C\",False,\"LWA Uncertainties/healpix-all-sky-rav-wsclean-err-80.fits\"],\n",
    "       #[\"haslam408_dsds_Remazeilles2014.fits\",408,\"G\",False,[1.2,10,3]],\n",
    "       #[\"Dwingeloo_Kelvins_1_256.fits\",820,\"G\",False,[0.5,6,0.6]],\n",
    "       #[\"STOCKERT+VILLA-ELISA_1420MHz_1_256.fits\",1420,\"G\",False,[0.017,5,0.5]],\n",
    "       #[\"lambda_23de_hea.fits\",2326,\"C\",False,[0.03,5,0.08]],\n",
    "       [\"ARCADE Files/arc2_3150_v19.fits\",3150,\"G\",True,[0.005,0,0.00749]],\n",
    "       [\"ARCADE Files/arc2_3410_v19.fits\",3410,\"G\",True,[0.0047,0,0.00605]],\n",
    "       [\"ARCADE Files/arc2_7970_v19.fits\",7970,\"G\",True,[0.0077,0,0.0118]],\n",
    "       [\"ARCADE Files/arc2_8330_v19.fits\",8330,\"G\",True,[0.0086,0,0.01348]],\n",
    "       [\"ARCADE Files/arc2_9720_v19.fits\",9720,\"G\",True,[0.0039,0,0.00451]],\n",
    "       [\"ARCADE Files/arc2_10490_v19.fits\",10490,\"G\",True,[0.0041,0,0.00438]],\n",
    "       #[\"ARCADE Files/arc2_29500_v19.fits\",29500,\"G\",True,[0.0273,0,0.153]],\n",
    "       #[\"ARCADE Files/arc2_31000_v19.fits\",31000,\"G\",True,[0.0135,0,0.075]],\n",
    "       #[\"ARCADE Files/arc2_88200_v19.fits\",88200,\"G\",True,[0.0138,0,0.0354]],\n",
    "       #[\"ARCADE Files/arc2_89800_v19.fits\",89800,\"G\",True,[0.0069,0,0.0207]]\n",
    "      ]\n",
    "\n",
    "# files[i][0]=file name\n",
    "# files[i][1]=Mhz\n",
    "# files[i][2]=coords\n",
    "# files[i][3]=In thermal temp?\n",
    "# files[i][4]=Uncertainty map, or [rms, calibration error, zero-level/systematic]"
   ]
  },
  {
   "cell_type": "code",
   "execution_count": 193,
   "id": "96df01c7",
   "metadata": {},
   "outputs": [
    {
     "name": "stderr",
     "output_type": "stream",
     "text": [
      "100%|█████████████████████████████████████████████████████████████████████████████████████| 6/6 [00:08<00:00,  1.34s/it]\n"
     ]
    }
   ],
   "source": [
    "T_g_array,T_g_unc=TG_calculation(files)"
   ]
  },
  {
   "cell_type": "code",
   "execution_count": 9,
   "id": "a7186f98",
   "metadata": {},
   "outputs": [],
   "source": [
    "Free408=(hp.read_map((\"wmap_K_mem_freefree_9yr_v5.fits\"))/1000).tolist()\n",
    "Free4081=(hp.read_map((\"wmap_Ka_mem_freefree_9yr_v5.fits\"))/1000).tolist()\n",
    "Rescaled408map=[]\n",
    "for x in range(len(Free408)):\n",
    "    coef=(Free408[x]*(22.8)**2.15)*(0.408)**(-2.15)\n",
    "    coef1=(Free4081[x]*(33.07)**2.15)*(0.408)**(-2.15)\n",
    "    Rescaled408map.append(np.mean([coef,coef1]))"
   ]
  },
  {
   "cell_type": "markdown",
   "id": "2ab77992",
   "metadata": {},
   "source": [
    "# Minimizer"
   ]
  },
  {
   "cell_type": "code",
   "execution_count": 206,
   "id": "a49a9b6c",
   "metadata": {
    "scrolled": true
   },
   "outputs": [
    {
     "name": "stderr",
     "output_type": "stream",
     "text": [
      "4128it [00:06, 591.90it/s, +500 | bound: 8 | nc: 1 | ncall: 24240 | eff(%): 19.495 | loglstar:   -inf < -0.001 <    inf | logz: -7.403 +/-  0.113 | dlogz:  0.001 >  0.509]   \n",
      "14940it [00:24, 598.20it/s, batch: 8 | bound: 5 | nc: 1 | ncall: 43300 | eff(%): 34.503 | loglstar: -4.858 < -0.002 < -0.487 | logz: -7.431 +/-  0.066 | stop:  0.927]                     \n"
     ]
    },
    {
     "name": "stdout",
     "output_type": "stream",
     "text": [
      "T_exc at 3150MHz is 2.49524 in the North, 2.53014 in the South w/ TT mean: 2.58755 pm 0.55392\n"
     ]
    },
    {
     "name": "stderr",
     "output_type": "stream",
     "text": [
      "4926it [00:08, 606.80it/s, bound: 10 | nc: 2 | ncall: 24988 | eff(%): 19.713 | loglstar:   -inf < -15071.079 <    inf | logz: -15087.829 +/-  0.183 | dlogz: 14884.243 >  0.509]   \n"
     ]
    },
    {
     "ename": "KeyboardInterrupt",
     "evalue": "",
     "output_type": "error",
     "traceback": [
      "\u001b[0;31m---------------------------------------------------------------------------\u001b[0m",
      "\u001b[0;31mKeyboardInterrupt\u001b[0m                         Traceback (most recent call last)",
      "Input \u001b[0;32mIn [206]\u001b[0m, in \u001b[0;36m<cell line: 10>\u001b[0;34m()\u001b[0m\n\u001b[1;32m      9\u001b[0m alpha_ff_err_list\u001b[38;5;241m=\u001b[39m[]\n\u001b[1;32m     10\u001b[0m \u001b[38;5;28;01mfor\u001b[39;00m file \u001b[38;5;129;01min\u001b[39;00m files:\n\u001b[0;32m---> 11\u001b[0m     T_exc,T_exc_err,alpha_0,alpha_0_err,alpha_ff,alpha_ff_err,alpha_s,alpha_s_err,freq\u001b[38;5;241m=\u001b[39m\u001b[43mChiSquaredMinimizer\u001b[49m\u001b[43m(\u001b[49m\u001b[43mfile\u001b[49m\u001b[43m,\u001b[49m\u001b[43mT_g_array\u001b[49m\u001b[43m,\u001b[49m\u001b[43mT_g_unc\u001b[49m\u001b[43m)\u001b[49m\n\u001b[1;32m     12\u001b[0m     T_exc_list\u001b[38;5;241m.\u001b[39mappend(T_exc)\n\u001b[1;32m     13\u001b[0m     T_exc_err_list\u001b[38;5;241m.\u001b[39mappend(T_exc_err)\n",
      "File \u001b[0;32m/tmp/ipykernel_83/672553139.py:59\u001b[0m, in \u001b[0;36mChiSquaredMinimizer\u001b[0;34m(file, T_g_array, T_g_unc)\u001b[0m\n\u001b[1;32m     55\u001b[0m \u001b[38;5;28;01mdef\u001b[39;00m \u001b[38;5;21mloglike\u001b[39m(alpha):\n\u001b[1;32m     56\u001b[0m     \u001b[38;5;28;01mreturn\u001b[39;00m \u001b[38;5;241m-\u001b[39m\u001b[38;5;241m0.5\u001b[39m \u001b[38;5;241m*\u001b[39m np\u001b[38;5;241m.\u001b[39msum(((np\u001b[38;5;241m.\u001b[39marray(Map_cut)\u001b[38;5;241m-\u001b[39malpha[\u001b[38;5;241m0\u001b[39m]\u001b[38;5;241m-\u001b[39malpha[\u001b[38;5;241m1\u001b[39m]\u001b[38;5;241m*\u001b[39mnp\u001b[38;5;241m.\u001b[39marray(Freefree_map_cut)\n\u001b[1;32m     57\u001b[0m                          \u001b[38;5;241m-\u001b[39malpha[\u001b[38;5;241m2\u001b[39m]\u001b[38;5;241m*\u001b[39mnp\u001b[38;5;241m.\u001b[39marray(Synch_map_cut))\u001b[38;5;241m/\u001b[39m(np\u001b[38;5;241m.\u001b[39marray(sigma)))\u001b[38;5;241m*\u001b[39m\u001b[38;5;241m*\u001b[39m\u001b[38;5;241m2\u001b[39m)\n\u001b[0;32m---> 59\u001b[0m alpha,alpha_err\u001b[38;5;241m=\u001b[39m\u001b[43mDynestyFit\u001b[49m\u001b[43m(\u001b[49m\u001b[38;5;241;43m3\u001b[39;49m\u001b[43m,\u001b[49m\u001b[43mloglike\u001b[49m\u001b[43m,\u001b[49m\u001b[43m[\u001b[49m\u001b[43m[\u001b[49m\u001b[43mnp\u001b[49m\u001b[38;5;241;43m.\u001b[39;49m\u001b[43mmax\u001b[49m\u001b[43m(\u001b[49m\u001b[43mMap_cut\u001b[49m\u001b[43m)\u001b[49m\u001b[43m,\u001b[49m\u001b[38;5;241;43m-\u001b[39;49m\u001b[43mnp\u001b[49m\u001b[38;5;241;43m.\u001b[39;49m\u001b[43mmax\u001b[49m\u001b[43m(\u001b[49m\u001b[43mMap_cut\u001b[49m\u001b[43m)\u001b[49m\u001b[43m]\u001b[49m\u001b[43m,\u001b[49m\u001b[43m[\u001b[49m\u001b[38;5;241;43m2\u001b[39;49m\u001b[38;5;241;43m*\u001b[39;49m\u001b[43mnp\u001b[49m\u001b[38;5;241;43m.\u001b[39;49m\u001b[43mmax\u001b[49m\u001b[43m(\u001b[49m\u001b[43mMap_cut\u001b[49m\u001b[43m)\u001b[49m\u001b[43m,\u001b[49m\u001b[38;5;241;43m0\u001b[39;49m\u001b[43m]\u001b[49m\u001b[43m,\u001b[49m\u001b[43m[\u001b[49m\u001b[38;5;241;43m2\u001b[39;49m\u001b[38;5;241;43m*\u001b[39;49m\u001b[43mnp\u001b[49m\u001b[38;5;241;43m.\u001b[39;49m\u001b[43mmax\u001b[49m\u001b[43m(\u001b[49m\u001b[43mMap_cut\u001b[49m\u001b[43m)\u001b[49m\u001b[43m,\u001b[49m\u001b[38;5;241;43m0\u001b[39;49m\u001b[43m]\u001b[49m\u001b[43m]\u001b[49m\u001b[43m,\u001b[49m\u001b[38;5;28;43;01mFalse\u001b[39;49;00m\u001b[43m)\u001b[49m\n\u001b[1;32m     61\u001b[0m FreefreedumNorth\u001b[38;5;241m=\u001b[39m[]\n\u001b[1;32m     62\u001b[0m SynchdumNorth\u001b[38;5;241m=\u001b[39m[]\n",
      "File \u001b[0;32m/tmp/ipykernel_83/1800355729.py:14\u001b[0m, in \u001b[0;36mDynestyFit\u001b[0;34m(dim, loglike, ptlist, graph)\u001b[0m\n\u001b[1;32m     12\u001b[0m \u001b[38;5;66;03m# \"Static\" nested sampling.\u001b[39;00m\n\u001b[1;32m     13\u001b[0m sampler \u001b[38;5;241m=\u001b[39m dynesty\u001b[38;5;241m.\u001b[39mNestedSampler(loglike, ptform, ndim)\n\u001b[0;32m---> 14\u001b[0m \u001b[43msampler\u001b[49m\u001b[38;5;241;43m.\u001b[39;49m\u001b[43mrun_nested\u001b[49m\u001b[43m(\u001b[49m\u001b[43m)\u001b[49m\n\u001b[1;32m     15\u001b[0m sresults \u001b[38;5;241m=\u001b[39m sampler\u001b[38;5;241m.\u001b[39mresults\n\u001b[1;32m     16\u001b[0m dsampler \u001b[38;5;241m=\u001b[39m dynesty\u001b[38;5;241m.\u001b[39mDynamicNestedSampler(loglike, ptform, ndim,nlive\u001b[38;5;241m=\u001b[39m\u001b[38;5;241m500\u001b[39m)\n",
      "File \u001b[0;32m~/.local/lib/python3.8/site-packages/dynesty/sampler.py:879\u001b[0m, in \u001b[0;36mSampler.run_nested\u001b[0;34m(self, maxiter, maxcall, dlogz, logl_max, n_effective, add_live, print_progress, print_func, save_bounds)\u001b[0m\n\u001b[1;32m    877\u001b[0m \u001b[38;5;28;01mtry\u001b[39;00m:\n\u001b[1;32m    878\u001b[0m     ncall \u001b[38;5;241m=\u001b[39m \u001b[38;5;28mself\u001b[39m\u001b[38;5;241m.\u001b[39mncall\n\u001b[0;32m--> 879\u001b[0m     \u001b[38;5;28;01mfor\u001b[39;00m it, results \u001b[38;5;129;01min\u001b[39;00m \u001b[38;5;28menumerate\u001b[39m(\n\u001b[1;32m    880\u001b[0m             \u001b[38;5;28mself\u001b[39m\u001b[38;5;241m.\u001b[39msample(maxiter\u001b[38;5;241m=\u001b[39mmaxiter,\n\u001b[1;32m    881\u001b[0m                         maxcall\u001b[38;5;241m=\u001b[39mmaxcall,\n\u001b[1;32m    882\u001b[0m                         dlogz\u001b[38;5;241m=\u001b[39mdlogz,\n\u001b[1;32m    883\u001b[0m                         logl_max\u001b[38;5;241m=\u001b[39mlogl_max,\n\u001b[1;32m    884\u001b[0m                         save_bounds\u001b[38;5;241m=\u001b[39msave_bounds,\n\u001b[1;32m    885\u001b[0m                         save_samples\u001b[38;5;241m=\u001b[39m\u001b[38;5;28;01mTrue\u001b[39;00m,\n\u001b[1;32m    886\u001b[0m                         n_effective\u001b[38;5;241m=\u001b[39mn_effective,\n\u001b[1;32m    887\u001b[0m                         add_live\u001b[38;5;241m=\u001b[39madd_live)):\n\u001b[1;32m    888\u001b[0m         ncall \u001b[38;5;241m+\u001b[39m\u001b[38;5;241m=\u001b[39m results\u001b[38;5;241m.\u001b[39mnc\n\u001b[1;32m    890\u001b[0m         \u001b[38;5;66;03m# Print progress.\u001b[39;00m\n",
      "File \u001b[0;32m~/.local/lib/python3.8/site-packages/dynesty/sampler.py:740\u001b[0m, in \u001b[0;36mSampler.sample\u001b[0;34m(self, maxiter, maxcall, dlogz, logl_max, n_effective, add_live, save_bounds, save_samples)\u001b[0m\n\u001b[1;32m    735\u001b[0m loglstar_new \u001b[38;5;241m=\u001b[39m \u001b[38;5;28mself\u001b[39m\u001b[38;5;241m.\u001b[39mlive_logl[worst]  \u001b[38;5;66;03m# new likelihood\u001b[39;00m\n\u001b[1;32m    737\u001b[0m \u001b[38;5;66;03m# Sample a new live point from within the likelihood constraint\u001b[39;00m\n\u001b[1;32m    738\u001b[0m \u001b[38;5;66;03m# `logl > loglstar` using the bounding distribution and sampling\u001b[39;00m\n\u001b[1;32m    739\u001b[0m \u001b[38;5;66;03m# method from our sampler.\u001b[39;00m\n\u001b[0;32m--> 740\u001b[0m u, v, logl, nc \u001b[38;5;241m=\u001b[39m \u001b[38;5;28;43mself\u001b[39;49m\u001b[38;5;241;43m.\u001b[39;49m\u001b[43m_new_point\u001b[49m\u001b[43m(\u001b[49m\u001b[43mloglstar_new\u001b[49m\u001b[43m)\u001b[49m\n\u001b[1;32m    741\u001b[0m ncall \u001b[38;5;241m+\u001b[39m\u001b[38;5;241m=\u001b[39m nc\n\u001b[1;32m    742\u001b[0m \u001b[38;5;28mself\u001b[39m\u001b[38;5;241m.\u001b[39mncall \u001b[38;5;241m+\u001b[39m\u001b[38;5;241m=\u001b[39m nc\n",
      "File \u001b[0;32m~/.local/lib/python3.8/site-packages/dynesty/sampler.py:360\u001b[0m, in \u001b[0;36mSampler._new_point\u001b[0;34m(self, loglstar)\u001b[0m\n\u001b[1;32m    357\u001b[0m ncall, nupdate \u001b[38;5;241m=\u001b[39m \u001b[38;5;241m0\u001b[39m, \u001b[38;5;241m0\u001b[39m\n\u001b[1;32m    358\u001b[0m \u001b[38;5;28;01mwhile\u001b[39;00m \u001b[38;5;28;01mTrue\u001b[39;00m:\n\u001b[1;32m    359\u001b[0m     \u001b[38;5;66;03m# Get the next point from the queue\u001b[39;00m\n\u001b[0;32m--> 360\u001b[0m     u, v, logl, nc, blob \u001b[38;5;241m=\u001b[39m \u001b[38;5;28;43mself\u001b[39;49m\u001b[38;5;241;43m.\u001b[39;49m\u001b[43m_get_point_value\u001b[49m\u001b[43m(\u001b[49m\u001b[43mloglstar\u001b[49m\u001b[43m)\u001b[49m\n\u001b[1;32m    361\u001b[0m     ncall \u001b[38;5;241m+\u001b[39m\u001b[38;5;241m=\u001b[39m nc\n\u001b[1;32m    363\u001b[0m     \u001b[38;5;66;03m# Bounding checks.\u001b[39;00m\n",
      "File \u001b[0;32m~/.local/lib/python3.8/site-packages/dynesty/sampler.py:343\u001b[0m, in \u001b[0;36mSampler._get_point_value\u001b[0;34m(self, loglstar)\u001b[0m\n\u001b[1;32m    341\u001b[0m \u001b[38;5;66;03m# If the queue is empty, refill it.\u001b[39;00m\n\u001b[1;32m    342\u001b[0m \u001b[38;5;28;01mif\u001b[39;00m \u001b[38;5;28mself\u001b[39m\u001b[38;5;241m.\u001b[39mnqueue \u001b[38;5;241m<\u001b[39m\u001b[38;5;241m=\u001b[39m \u001b[38;5;241m0\u001b[39m:\n\u001b[0;32m--> 343\u001b[0m     \u001b[38;5;28;43mself\u001b[39;49m\u001b[38;5;241;43m.\u001b[39;49m\u001b[43m_fill_queue\u001b[49m\u001b[43m(\u001b[49m\u001b[43mloglstar\u001b[49m\u001b[43m)\u001b[49m\n\u001b[1;32m    345\u001b[0m \u001b[38;5;66;03m# Grab the earliest entry.\u001b[39;00m\n\u001b[1;32m    346\u001b[0m u, v, logl, nc, blob \u001b[38;5;241m=\u001b[39m \u001b[38;5;28mself\u001b[39m\u001b[38;5;241m.\u001b[39mqueue\u001b[38;5;241m.\u001b[39mpop(\u001b[38;5;241m0\u001b[39m)\n",
      "File \u001b[0;32m~/.local/lib/python3.8/site-packages/dynesty/sampler.py:311\u001b[0m, in \u001b[0;36mSampler._fill_queue\u001b[0;34m(self, loglstar)\u001b[0m\n\u001b[1;32m    308\u001b[0m \u001b[38;5;28;01mwhile\u001b[39;00m \u001b[38;5;28mself\u001b[39m\u001b[38;5;241m.\u001b[39mnqueue \u001b[38;5;241m<\u001b[39m \u001b[38;5;28mself\u001b[39m\u001b[38;5;241m.\u001b[39mqueue_size:\n\u001b[1;32m    309\u001b[0m     \u001b[38;5;28;01mif\u001b[39;00m \u001b[38;5;28mself\u001b[39m\u001b[38;5;241m.\u001b[39m_beyond_unit_bound(loglstar):\n\u001b[1;32m    310\u001b[0m         \u001b[38;5;66;03m# Propose points using the provided sampling/bounding options.\u001b[39;00m\n\u001b[0;32m--> 311\u001b[0m         point, axes \u001b[38;5;241m=\u001b[39m \u001b[38;5;28;43mself\u001b[39;49m\u001b[38;5;241;43m.\u001b[39;49m\u001b[43mpropose_point\u001b[49m\u001b[43m(\u001b[49m\u001b[38;5;241;43m*\u001b[39;49m\u001b[43margs\u001b[49m\u001b[43m)\u001b[49m\n\u001b[1;32m    312\u001b[0m         evolve_point \u001b[38;5;241m=\u001b[39m \u001b[38;5;28mself\u001b[39m\u001b[38;5;241m.\u001b[39mevolve_point\n\u001b[1;32m    313\u001b[0m     \u001b[38;5;28;01melse\u001b[39;00m:\n\u001b[1;32m    314\u001b[0m         \u001b[38;5;66;03m# Propose/evaluate points directly from the unit cube.\u001b[39;00m\n",
      "File \u001b[0;32m~/.local/lib/python3.8/site-packages/dynesty/nestedsamplers.py:600\u001b[0m, in \u001b[0;36mMultiEllipsoidSampler.propose_unif\u001b[0;34m(self, *args)\u001b[0m\n\u001b[1;32m    595\u001b[0m     nonb \u001b[38;5;241m=\u001b[39m \u001b[38;5;28mself\u001b[39m\u001b[38;5;241m.\u001b[39mnonbounded\n\u001b[1;32m    596\u001b[0m \u001b[38;5;28;01mwhile\u001b[39;00m \u001b[38;5;28;01mTrue\u001b[39;00m:\n\u001b[1;32m    597\u001b[0m     \u001b[38;5;66;03m# Sample a point from the union of ellipsoids.\u001b[39;00m\n\u001b[1;32m    598\u001b[0m     \u001b[38;5;66;03m# Returns the point `u`, ellipsoid index `idx`, and number of\u001b[39;00m\n\u001b[1;32m    599\u001b[0m     \u001b[38;5;66;03m# overlapping ellipsoids `q` at position `u`.\u001b[39;00m\n\u001b[0;32m--> 600\u001b[0m     u, idx \u001b[38;5;241m=\u001b[39m \u001b[38;5;28;43mself\u001b[39;49m\u001b[38;5;241;43m.\u001b[39;49m\u001b[43mmell\u001b[49m\u001b[38;5;241;43m.\u001b[39;49m\u001b[43msample\u001b[49m\u001b[43m(\u001b[49m\u001b[43mrstate\u001b[49m\u001b[38;5;241;43m=\u001b[39;49m\u001b[38;5;28;43mself\u001b[39;49m\u001b[38;5;241;43m.\u001b[39;49m\u001b[43mrstate\u001b[49m\u001b[43m)\u001b[49m\n\u001b[1;32m    601\u001b[0m     \u001b[38;5;66;03m# Check if the point is within the unit cube.\u001b[39;00m\n\u001b[1;32m    602\u001b[0m     \u001b[38;5;28;01mif\u001b[39;00m unitcheck(u, nonb):\n",
      "File \u001b[0;32m~/.local/lib/python3.8/site-packages/dynesty/bounding.py:470\u001b[0m, in \u001b[0;36mMultiEllipsoid.sample\u001b[0;34m(self, rstate, return_q)\u001b[0m\n\u001b[1;32m    468\u001b[0m \u001b[38;5;66;03m# Check how many ellipsoids the point lies within\u001b[39;00m\n\u001b[1;32m    469\u001b[0m delts \u001b[38;5;241m=\u001b[39m (x[\u001b[38;5;28;01mNone\u001b[39;00m, :] \u001b[38;5;241m-\u001b[39m \u001b[38;5;28mself\u001b[39m\u001b[38;5;241m.\u001b[39mctrs)\n\u001b[0;32m--> 470\u001b[0m q \u001b[38;5;241m=\u001b[39m \u001b[43m(\u001b[49m\u001b[43mnp\u001b[49m\u001b[38;5;241;43m.\u001b[39;49m\u001b[43meinsum\u001b[49m\u001b[43m(\u001b[49m\u001b[38;5;124;43m'\u001b[39;49m\u001b[38;5;124;43mai,aij,aj->a\u001b[39;49m\u001b[38;5;124;43m'\u001b[39;49m\u001b[43m,\u001b[49m\u001b[43m \u001b[49m\u001b[43mdelts\u001b[49m\u001b[43m,\u001b[49m\u001b[43m \u001b[49m\u001b[38;5;28;43mself\u001b[39;49m\u001b[38;5;241;43m.\u001b[39;49m\u001b[43mams\u001b[49m\u001b[43m,\u001b[49m\u001b[43m \u001b[49m\u001b[43mdelts\u001b[49m\u001b[43m)\u001b[49m\u001b[43m \u001b[49m\u001b[38;5;241;43m<\u001b[39;49m\u001b[43m \u001b[49m\u001b[38;5;241;43m1\u001b[39;49m\u001b[43m)\u001b[49m\u001b[38;5;241;43m.\u001b[39;49m\u001b[43msum\u001b[49m\u001b[43m(\u001b[49m\u001b[43m)\u001b[49m\n\u001b[1;32m    472\u001b[0m \u001b[38;5;28;01massert\u001b[39;00m q \u001b[38;5;241m>\u001b[39m \u001b[38;5;241m0\u001b[39m  \u001b[38;5;66;03m# Should never fail\u001b[39;00m\n\u001b[1;32m    474\u001b[0m \u001b[38;5;28;01mif\u001b[39;00m return_q:\n\u001b[1;32m    475\u001b[0m     \u001b[38;5;66;03m# If `q` is being returned, assume the user wants to\u001b[39;00m\n\u001b[1;32m    476\u001b[0m     \u001b[38;5;66;03m# explicitly apply the `1. / q` acceptance criterion to\u001b[39;00m\n\u001b[1;32m    477\u001b[0m     \u001b[38;5;66;03m# properly sample from the union of ellipsoids.\u001b[39;00m\n",
      "File \u001b[0;32m~/.local/lib/python3.8/site-packages/numpy/core/_methods.py:48\u001b[0m, in \u001b[0;36m_sum\u001b[0;34m(a, axis, dtype, out, keepdims, initial, where)\u001b[0m\n\u001b[1;32m     46\u001b[0m \u001b[38;5;28;01mdef\u001b[39;00m \u001b[38;5;21m_sum\u001b[39m(a, axis\u001b[38;5;241m=\u001b[39m\u001b[38;5;28;01mNone\u001b[39;00m, dtype\u001b[38;5;241m=\u001b[39m\u001b[38;5;28;01mNone\u001b[39;00m, out\u001b[38;5;241m=\u001b[39m\u001b[38;5;28;01mNone\u001b[39;00m, keepdims\u001b[38;5;241m=\u001b[39m\u001b[38;5;28;01mFalse\u001b[39;00m,\n\u001b[1;32m     47\u001b[0m          initial\u001b[38;5;241m=\u001b[39m_NoValue, where\u001b[38;5;241m=\u001b[39m\u001b[38;5;28;01mTrue\u001b[39;00m):\n\u001b[0;32m---> 48\u001b[0m     \u001b[38;5;28;01mreturn\u001b[39;00m \u001b[43mumr_sum\u001b[49m\u001b[43m(\u001b[49m\u001b[43ma\u001b[49m\u001b[43m,\u001b[49m\u001b[43m \u001b[49m\u001b[43maxis\u001b[49m\u001b[43m,\u001b[49m\u001b[43m \u001b[49m\u001b[43mdtype\u001b[49m\u001b[43m,\u001b[49m\u001b[43m \u001b[49m\u001b[43mout\u001b[49m\u001b[43m,\u001b[49m\u001b[43m \u001b[49m\u001b[43mkeepdims\u001b[49m\u001b[43m,\u001b[49m\u001b[43m \u001b[49m\u001b[43minitial\u001b[49m\u001b[43m,\u001b[49m\u001b[43m \u001b[49m\u001b[43mwhere\u001b[49m\u001b[43m)\u001b[49m\n",
      "\u001b[0;31mKeyboardInterrupt\u001b[0m: "
     ]
    }
   ],
   "source": [
    "T_exc_list=[]\n",
    "T_exc_err_list=[]\n",
    "freq_list=[]\n",
    "alpha_0_list=[]\n",
    "alpha_s_list=[]\n",
    "alpha_ff_list=[]\n",
    "alpha_0_err_list=[]\n",
    "alpha_s_err_list=[]\n",
    "alpha_ff_err_list=[]\n",
    "for file in files:\n",
    "    T_exc,T_exc_err,alpha_0,alpha_0_err,alpha_ff,alpha_ff_err,alpha_s,alpha_s_err,freq=ChiSquaredMinimizer(file,T_g_array,T_g_unc)\n",
    "    T_exc_list.append(T_exc)\n",
    "    T_exc_err_list.append(T_exc_err)\n",
    "    freq_list.append(freq)\n",
    "    alpha_0_list.append(alpha_0)\n",
    "    alpha_s_list.append(alpha_s)\n",
    "    alpha_ff_list.append(alpha_ff)\n",
    "    alpha_0_err_list.append(alpha_0_err)\n",
    "    alpha_s_err_list.append(alpha_s_err)\n",
    "    alpha_ff_err_list.append(alpha_ff_err)"
   ]
  },
  {
   "cell_type": "code",
   "execution_count": 207,
   "id": "bbb763cb",
   "metadata": {},
   "outputs": [
    {
     "name": "stdout",
     "output_type": "stream",
     "text": [
      "[2.5875465045359665] [0.5539161665136043] [3150] [2.189142679340319] [0.016617695576111903] [2.8347186470219308] [0.4731729261244182] [0.013980012757039934] [1.9722617198050014]\n"
     ]
    }
   ],
   "source": [
    "print(T_exc_list,T_exc_err_list,freq_list,alpha_0_list,alpha_s_list,alpha_ff_list,alpha_0_err_list,alpha_s_err_list,alpha_ff_err_list)"
   ]
  },
  {
   "cell_type": "code",
   "execution_count": 97,
   "id": "198fe040",
   "metadata": {},
   "outputs": [
    {
     "name": "stderr",
     "output_type": "stream",
     "text": [
      "7404it [00:11, 645.99it/s, +500 | bound: 16 | nc: 1 | ncall: 29870 | eff(%): 26.912 | loglstar:   -inf < -1218.320 <    inf | logz: -1232.275 +/-  0.161 | dlogz:  0.001 >  0.509]\n",
      "18096it [00:32, 559.04it/s, batch: 8 | bound: 4 | nc: 2 | ncall: 44410 | eff(%): 40.748 | loglstar: -1222.800 < -1218.320 < -1218.907 | logz: -1232.373 +/-  0.094 | stop:  0.927]           \n"
     ]
    }
   ],
   "source": [
    "#alpha_s graph fitting\n",
    "def loglike(x):\n",
    "    return -0.5 * np.sum((np.array(alpha_s_list)-x[0]*(np.array(freq_list)/310)**(x[1]))**2/np.array(alpha_s_err_list)**2)\n",
    "Temp_const,Temp_const_err=DynestyFit(2,loglike,[[10,0],[0,-5]],False)"
   ]
  },
  {
   "cell_type": "code",
   "execution_count": 149,
   "id": "2d1404d9",
   "metadata": {},
   "outputs": [
    {
     "ename": "ValueError",
     "evalue": "x and y must be the same size",
     "output_type": "error",
     "traceback": [
      "\u001b[0;31m---------------------------------------------------------------------------\u001b[0m",
      "\u001b[0;31mValueError\u001b[0m                                Traceback (most recent call last)",
      "Input \u001b[0;32mIn [149]\u001b[0m, in \u001b[0;36m<cell line: 2>\u001b[0;34m()\u001b[0m\n\u001b[1;32m      1\u001b[0m plt\u001b[38;5;241m.\u001b[39mgrid()\n\u001b[0;32m----> 2\u001b[0m \u001b[43mplt\u001b[49m\u001b[38;5;241;43m.\u001b[39;49m\u001b[43mscatter\u001b[49m\u001b[43m(\u001b[49m\u001b[43mnp\u001b[49m\u001b[38;5;241;43m.\u001b[39;49m\u001b[43marray\u001b[49m\u001b[43m(\u001b[49m\u001b[43mfreq_list\u001b[49m\u001b[43m)\u001b[49m\u001b[43m,\u001b[49m\u001b[43m(\u001b[49m\u001b[43malpha_s_list\u001b[49m\u001b[43m)\u001b[49m\u001b[43m,\u001b[49m\u001b[43mcolor\u001b[49m\u001b[38;5;241;43m=\u001b[39;49m\u001b[38;5;124;43m\"\u001b[39;49m\u001b[38;5;124;43mred\u001b[39;49m\u001b[38;5;124;43m\"\u001b[39;49m\u001b[43m,\u001b[49m\u001b[43malpha\u001b[49m\u001b[38;5;241;43m=\u001b[39;49m\u001b[38;5;241;43m0.5\u001b[39;49m\u001b[43m)\u001b[49m\n\u001b[1;32m      3\u001b[0m plt\u001b[38;5;241m.\u001b[39merrorbar(x\u001b[38;5;241m=\u001b[39mfreq_list,y\u001b[38;5;241m=\u001b[39mnp\u001b[38;5;241m.\u001b[39marray(alpha_s_list),yerr\u001b[38;5;241m=\u001b[39malpha_s_err_list,fmt\u001b[38;5;241m=\u001b[39m\u001b[38;5;124m\"\u001b[39m\u001b[38;5;124mnone\u001b[39m\u001b[38;5;124m\"\u001b[39m,color\u001b[38;5;241m=\u001b[39m\u001b[38;5;124m\"\u001b[39m\u001b[38;5;124mmaroon\u001b[39m\u001b[38;5;124m\"\u001b[39m,capsize\u001b[38;5;241m=\u001b[39m\u001b[38;5;241m2\u001b[39m)\n\u001b[1;32m      4\u001b[0m plt\u001b[38;5;241m.\u001b[39mxscale(\u001b[38;5;124m\"\u001b[39m\u001b[38;5;124mlog\u001b[39m\u001b[38;5;124m\"\u001b[39m)\n",
      "File \u001b[0;32m~/.local/lib/python3.8/site-packages/matplotlib/pyplot.py:2819\u001b[0m, in \u001b[0;36mscatter\u001b[0;34m(x, y, s, c, marker, cmap, norm, vmin, vmax, alpha, linewidths, edgecolors, plotnonfinite, data, **kwargs)\u001b[0m\n\u001b[1;32m   2814\u001b[0m \u001b[38;5;129m@_copy_docstring_and_deprecators\u001b[39m(Axes\u001b[38;5;241m.\u001b[39mscatter)\n\u001b[1;32m   2815\u001b[0m \u001b[38;5;28;01mdef\u001b[39;00m \u001b[38;5;21mscatter\u001b[39m(\n\u001b[1;32m   2816\u001b[0m         x, y, s\u001b[38;5;241m=\u001b[39m\u001b[38;5;28;01mNone\u001b[39;00m, c\u001b[38;5;241m=\u001b[39m\u001b[38;5;28;01mNone\u001b[39;00m, marker\u001b[38;5;241m=\u001b[39m\u001b[38;5;28;01mNone\u001b[39;00m, cmap\u001b[38;5;241m=\u001b[39m\u001b[38;5;28;01mNone\u001b[39;00m, norm\u001b[38;5;241m=\u001b[39m\u001b[38;5;28;01mNone\u001b[39;00m,\n\u001b[1;32m   2817\u001b[0m         vmin\u001b[38;5;241m=\u001b[39m\u001b[38;5;28;01mNone\u001b[39;00m, vmax\u001b[38;5;241m=\u001b[39m\u001b[38;5;28;01mNone\u001b[39;00m, alpha\u001b[38;5;241m=\u001b[39m\u001b[38;5;28;01mNone\u001b[39;00m, linewidths\u001b[38;5;241m=\u001b[39m\u001b[38;5;28;01mNone\u001b[39;00m, \u001b[38;5;241m*\u001b[39m,\n\u001b[1;32m   2818\u001b[0m         edgecolors\u001b[38;5;241m=\u001b[39m\u001b[38;5;28;01mNone\u001b[39;00m, plotnonfinite\u001b[38;5;241m=\u001b[39m\u001b[38;5;28;01mFalse\u001b[39;00m, data\u001b[38;5;241m=\u001b[39m\u001b[38;5;28;01mNone\u001b[39;00m, \u001b[38;5;241m*\u001b[39m\u001b[38;5;241m*\u001b[39mkwargs):\n\u001b[0;32m-> 2819\u001b[0m     __ret \u001b[38;5;241m=\u001b[39m \u001b[43mgca\u001b[49m\u001b[43m(\u001b[49m\u001b[43m)\u001b[49m\u001b[38;5;241;43m.\u001b[39;49m\u001b[43mscatter\u001b[49m\u001b[43m(\u001b[49m\n\u001b[1;32m   2820\u001b[0m \u001b[43m        \u001b[49m\u001b[43mx\u001b[49m\u001b[43m,\u001b[49m\u001b[43m \u001b[49m\u001b[43my\u001b[49m\u001b[43m,\u001b[49m\u001b[43m \u001b[49m\u001b[43ms\u001b[49m\u001b[38;5;241;43m=\u001b[39;49m\u001b[43ms\u001b[49m\u001b[43m,\u001b[49m\u001b[43m \u001b[49m\u001b[43mc\u001b[49m\u001b[38;5;241;43m=\u001b[39;49m\u001b[43mc\u001b[49m\u001b[43m,\u001b[49m\u001b[43m \u001b[49m\u001b[43mmarker\u001b[49m\u001b[38;5;241;43m=\u001b[39;49m\u001b[43mmarker\u001b[49m\u001b[43m,\u001b[49m\u001b[43m \u001b[49m\u001b[43mcmap\u001b[49m\u001b[38;5;241;43m=\u001b[39;49m\u001b[43mcmap\u001b[49m\u001b[43m,\u001b[49m\u001b[43m \u001b[49m\u001b[43mnorm\u001b[49m\u001b[38;5;241;43m=\u001b[39;49m\u001b[43mnorm\u001b[49m\u001b[43m,\u001b[49m\n\u001b[1;32m   2821\u001b[0m \u001b[43m        \u001b[49m\u001b[43mvmin\u001b[49m\u001b[38;5;241;43m=\u001b[39;49m\u001b[43mvmin\u001b[49m\u001b[43m,\u001b[49m\u001b[43m \u001b[49m\u001b[43mvmax\u001b[49m\u001b[38;5;241;43m=\u001b[39;49m\u001b[43mvmax\u001b[49m\u001b[43m,\u001b[49m\u001b[43m \u001b[49m\u001b[43malpha\u001b[49m\u001b[38;5;241;43m=\u001b[39;49m\u001b[43malpha\u001b[49m\u001b[43m,\u001b[49m\u001b[43m \u001b[49m\u001b[43mlinewidths\u001b[49m\u001b[38;5;241;43m=\u001b[39;49m\u001b[43mlinewidths\u001b[49m\u001b[43m,\u001b[49m\n\u001b[1;32m   2822\u001b[0m \u001b[43m        \u001b[49m\u001b[43medgecolors\u001b[49m\u001b[38;5;241;43m=\u001b[39;49m\u001b[43medgecolors\u001b[49m\u001b[43m,\u001b[49m\u001b[43m \u001b[49m\u001b[43mplotnonfinite\u001b[49m\u001b[38;5;241;43m=\u001b[39;49m\u001b[43mplotnonfinite\u001b[49m\u001b[43m,\u001b[49m\n\u001b[1;32m   2823\u001b[0m \u001b[43m        \u001b[49m\u001b[38;5;241;43m*\u001b[39;49m\u001b[38;5;241;43m*\u001b[39;49m\u001b[43m(\u001b[49m\u001b[43m{\u001b[49m\u001b[38;5;124;43m\"\u001b[39;49m\u001b[38;5;124;43mdata\u001b[39;49m\u001b[38;5;124;43m\"\u001b[39;49m\u001b[43m:\u001b[49m\u001b[43m \u001b[49m\u001b[43mdata\u001b[49m\u001b[43m}\u001b[49m\u001b[43m \u001b[49m\u001b[38;5;28;43;01mif\u001b[39;49;00m\u001b[43m \u001b[49m\u001b[43mdata\u001b[49m\u001b[43m \u001b[49m\u001b[38;5;129;43;01mis\u001b[39;49;00m\u001b[43m \u001b[49m\u001b[38;5;129;43;01mnot\u001b[39;49;00m\u001b[43m \u001b[49m\u001b[38;5;28;43;01mNone\u001b[39;49;00m\u001b[43m \u001b[49m\u001b[38;5;28;43;01melse\u001b[39;49;00m\u001b[43m \u001b[49m\u001b[43m{\u001b[49m\u001b[43m}\u001b[49m\u001b[43m)\u001b[49m\u001b[43m,\u001b[49m\u001b[43m \u001b[49m\u001b[38;5;241;43m*\u001b[39;49m\u001b[38;5;241;43m*\u001b[39;49m\u001b[43mkwargs\u001b[49m\u001b[43m)\u001b[49m\n\u001b[1;32m   2824\u001b[0m     sci(__ret)\n\u001b[1;32m   2825\u001b[0m     \u001b[38;5;28;01mreturn\u001b[39;00m __ret\n",
      "File \u001b[0;32m~/.local/lib/python3.8/site-packages/matplotlib/__init__.py:1412\u001b[0m, in \u001b[0;36m_preprocess_data.<locals>.inner\u001b[0;34m(ax, data, *args, **kwargs)\u001b[0m\n\u001b[1;32m   1409\u001b[0m \u001b[38;5;129m@functools\u001b[39m\u001b[38;5;241m.\u001b[39mwraps(func)\n\u001b[1;32m   1410\u001b[0m \u001b[38;5;28;01mdef\u001b[39;00m \u001b[38;5;21minner\u001b[39m(ax, \u001b[38;5;241m*\u001b[39margs, data\u001b[38;5;241m=\u001b[39m\u001b[38;5;28;01mNone\u001b[39;00m, \u001b[38;5;241m*\u001b[39m\u001b[38;5;241m*\u001b[39mkwargs):\n\u001b[1;32m   1411\u001b[0m     \u001b[38;5;28;01mif\u001b[39;00m data \u001b[38;5;129;01mis\u001b[39;00m \u001b[38;5;28;01mNone\u001b[39;00m:\n\u001b[0;32m-> 1412\u001b[0m         \u001b[38;5;28;01mreturn\u001b[39;00m \u001b[43mfunc\u001b[49m\u001b[43m(\u001b[49m\u001b[43max\u001b[49m\u001b[43m,\u001b[49m\u001b[43m \u001b[49m\u001b[38;5;241;43m*\u001b[39;49m\u001b[38;5;28;43mmap\u001b[39;49m\u001b[43m(\u001b[49m\u001b[43msanitize_sequence\u001b[49m\u001b[43m,\u001b[49m\u001b[43m \u001b[49m\u001b[43margs\u001b[49m\u001b[43m)\u001b[49m\u001b[43m,\u001b[49m\u001b[43m \u001b[49m\u001b[38;5;241;43m*\u001b[39;49m\u001b[38;5;241;43m*\u001b[39;49m\u001b[43mkwargs\u001b[49m\u001b[43m)\u001b[49m\n\u001b[1;32m   1414\u001b[0m     bound \u001b[38;5;241m=\u001b[39m new_sig\u001b[38;5;241m.\u001b[39mbind(ax, \u001b[38;5;241m*\u001b[39margs, \u001b[38;5;241m*\u001b[39m\u001b[38;5;241m*\u001b[39mkwargs)\n\u001b[1;32m   1415\u001b[0m     auto_label \u001b[38;5;241m=\u001b[39m (bound\u001b[38;5;241m.\u001b[39marguments\u001b[38;5;241m.\u001b[39mget(label_namer)\n\u001b[1;32m   1416\u001b[0m                   \u001b[38;5;129;01mor\u001b[39;00m bound\u001b[38;5;241m.\u001b[39mkwargs\u001b[38;5;241m.\u001b[39mget(label_namer))\n",
      "File \u001b[0;32m~/.local/lib/python3.8/site-packages/matplotlib/axes/_axes.py:4362\u001b[0m, in \u001b[0;36mAxes.scatter\u001b[0;34m(self, x, y, s, c, marker, cmap, norm, vmin, vmax, alpha, linewidths, edgecolors, plotnonfinite, **kwargs)\u001b[0m\n\u001b[1;32m   4360\u001b[0m y \u001b[38;5;241m=\u001b[39m np\u001b[38;5;241m.\u001b[39mma\u001b[38;5;241m.\u001b[39mravel(y)\n\u001b[1;32m   4361\u001b[0m \u001b[38;5;28;01mif\u001b[39;00m x\u001b[38;5;241m.\u001b[39msize \u001b[38;5;241m!=\u001b[39m y\u001b[38;5;241m.\u001b[39msize:\n\u001b[0;32m-> 4362\u001b[0m     \u001b[38;5;28;01mraise\u001b[39;00m \u001b[38;5;167;01mValueError\u001b[39;00m(\u001b[38;5;124m\"\u001b[39m\u001b[38;5;124mx and y must be the same size\u001b[39m\u001b[38;5;124m\"\u001b[39m)\n\u001b[1;32m   4364\u001b[0m \u001b[38;5;28;01mif\u001b[39;00m s \u001b[38;5;129;01mis\u001b[39;00m \u001b[38;5;28;01mNone\u001b[39;00m:\n\u001b[1;32m   4365\u001b[0m     s \u001b[38;5;241m=\u001b[39m (\u001b[38;5;241m20\u001b[39m \u001b[38;5;28;01mif\u001b[39;00m rcParams[\u001b[38;5;124m'\u001b[39m\u001b[38;5;124m_internal.classic_mode\u001b[39m\u001b[38;5;124m'\u001b[39m] \u001b[38;5;28;01melse\u001b[39;00m\n\u001b[1;32m   4366\u001b[0m          rcParams[\u001b[38;5;124m'\u001b[39m\u001b[38;5;124mlines.markersize\u001b[39m\u001b[38;5;124m'\u001b[39m] \u001b[38;5;241m*\u001b[39m\u001b[38;5;241m*\u001b[39m \u001b[38;5;241m2.0\u001b[39m)\n",
      "\u001b[0;31mValueError\u001b[0m: x and y must be the same size"
     ]
    },
    {
     "data": {
      "image/png": "[encoded data removed]",
      "text/plain": [
       "<Figure size 432x288 with 1 Axes>"
      ]
     },
     "metadata": {
      "needs_background": "light"
     },
     "output_type": "display_data"
    }
   ],
   "source": [
    "#alpha_s plotting\n",
    "plt.grid()\n",
    "plt.scatter(np.array(freq_list),(alpha_s_list),color=\"red\",alpha=0.5)\n",
    "plt.errorbar(x=freq_list,y=np.array(alpha_s_list),yerr=alpha_s_err_list,fmt=\"none\",color=\"maroon\",capsize=2)\n",
    "plt.xscale(\"log\")\n",
    "plt.yscale(\"log\")\n",
    "plt.xlabel(\"Frequency (MHz)\")\n",
    "plt.ylabel(\"$α_s$\")\n",
    "plt.title(\"$α_s$ Power Law Fit\")\n",
    "plt.scatter([3150,3420,7970,8330,9720,10490],np.array([2.02,1.7,0.24,0.24,0.04,0.05])/1000,color=\"cyan\",alpha=0.5)\n",
    "plt.errorbar(x=[3150,3420,7970,8330,9720,10490],y=np.array([2.02,1.7,0.24,0.24,0.04,0.05])/1000,yerr=np.array([0.05,0.04,0.02,0.02,0.01,0.01])/1000,fmt=\"none\",color=\"blue\",capsize=2)\n",
    "plt.plot(np.array(freq_list),Temp_const[0]*(np.array(freq_list)/310)**Temp_const[1])\n",
    "#plt.savefig(\"alpha_s_power_law\",dpi=200)\n",
    "def loglike(x):\n",
    "    return -0.5 * np.sum(((np.array([2.02,1.7,0.24,0.24,0.04,0.05])/1000)-x[0]*(np.array([3150,3420,7970,8330,9720,10490])/310)**(x[1]))**2/(np.array([0.05,0.04,0.02,0.02,0.01,0.01])/1000)**2)\n",
    "Temp_const,Temp_const_err=DynestyFit(2,loglike,[[10,0],[0,-5]],False)\n",
    "print(Temp_const,Temp_const_err)\n",
    "plt.show()\n"
   ]
  },
  {
   "cell_type": "code",
   "execution_count": 155,
   "id": "ec1c7cb5",
   "metadata": {
    "scrolled": true
   },
   "outputs": [
    {
     "name": "stderr",
     "output_type": "stream",
     "text": [
      "9073it [00:37, 242.55it/s, +500 | bound: 60 | nc: 1 | ncall: 65392 | eff(%): 14.752 | loglstar:   -inf < -20.378 <    inf | logz: -37.721 +/-  2.014 | dlogz:  0.001 >  0.509]     \n",
      "19856it [00:41, 481.62it/s, batch: 7 | bound: 5 | nc: 2 | ncall: 67538 | eff(%): 29.400 | loglstar: -25.505 < -20.381 < -21.443 | logz: -37.263 +/-  0.106 | stop:  0.869]                   \n"
     ]
    },
    {
     "name": "stdout",
     "output_type": "stream",
     "text": [
      "2.262859651691061\n"
     ]
    }
   ],
   "source": [
    "#Fitting for the exact excess/CMB value\n",
    "def loglike(x):\n",
    "    return -0.5 * np.sum(((x[0]+x[1]*((np.array(freq_list)/310)**(-x[2]))-T_exc_list)/T_exc_err_list)**2)\n",
    "\n",
    "Temp_const,Temp_const_err=DynestyFit(3,loglike,[[10,0],[200,0],[10,0]],False)\n",
    "print(\"Chi^2/dof=%.5f\"%np.sum(((Temp_const[0]+Temp_const[1]*((np.array(freq_list)/310)**(-Temp_const[2]))-T_exc_list)/T_exc_err_list)**2)/18)"
   ]
  },
  {
   "cell_type": "code",
   "execution_count": 156,
   "id": "999b4124",
   "metadata": {},
   "outputs": [
    {
     "name": "stdout",
     "output_type": "stream",
     "text": [
      "T_cmb=2.7280 pm 0.0031, beta=-2.6447 pm 0.0221\n",
      "[2.727963250282754, 31.934578272881925, 2.64471009266744] [0.0030971748439800884, 1.326964323091719, 0.022109338427234615]\n"
     ]
    },
    {
     "data": {
      "image/png": "[encoded data removed]",
      "text/plain": [
       "<Figure size 432x288 with 1 Axes>"
      ]
     },
     "metadata": {
      "needs_background": "light"
     },
     "output_type": "display_data"
    }
   ],
   "source": [
    "#Plotting and comparing\n",
    "ARCADE_freqs=[22,45,408,1420,3150,3410,7970,8330,9720,10490]\n",
    "Dowell_freqs=[22,40,45,50,60,70,80,408,1420,3150,3410,7970,8330,9720,10490]\n",
    "ARCADE_temps=[20355,3864,13.42,3.271,2.787,2.770,2.761,2.743,2.731,2.738]\n",
    "Dowell_temps=[19212,5792,4090,3443,2363,1505,1188,15.20,3.276,2.788,2.768,2.764,2.741,2.731,2.731]\n",
    "ARCADE_errs=[5181,501,3.52,0.526,0.01,0.008,0.013,0.015,0.005,0.006]\n",
    "Dowell_errs=[4095,963,691,526,365,208,112,2.37,0.167,0.045,0.045,0.06,0.062,0.062,0.065]\n",
    "plt.plot((freq_list),(Temp_const[1]*(np.array(freq_list)/310)**(-Temp_const[2])))\n",
    "plt.scatter((freq_list),(np.array(T_exc_list)-Temp_const[0]),color=\"red\",s=20,alpha=0.5)\n",
    "plt.errorbar(x=freq_list,y=np.array(T_exc_list)-Temp_const[0],yerr=T_exc_err_list,fmt=\"none\",color=\"maroon\",capsize=2,alpha=0.5)\n",
    "plt.scatter(Dowell_freqs,(np.array(Dowell_temps)-Temp_const[0]),color=\"green\",s=20,alpha=0.3)\n",
    "plt.errorbar(x=Dowell_freqs,y=np.array(Dowell_temps)-Temp_const[0],yerr=Dowell_errs,fmt=\"none\",color=\"darkgreen\",capsize=2,alpha=0.2)\n",
    "plt.scatter(ARCADE_freqs,(np.array(ARCADE_temps)-Temp_const[0]),color=\"cyan\",s=20,alpha=0.5)\n",
    "plt.errorbar(x=ARCADE_freqs,y=np.array(ARCADE_temps)-Temp_const[0],yerr=ARCADE_errs,fmt=\"none\",color=\"blue\",capsize=2,alpha=0.5)\n",
    "plt.xlabel(\"Frequency (MHz)\")\n",
    "plt.yscale(\"log\")\n",
    "plt.xscale(\"log\")\n",
    "plt.ylabel(\"$T_{extra}$ (K)\")\n",
    "plt.title(\"$T_{extra}$ Power Law Fit\")\n",
    "print(\"T_cmb=%.4f pm %.4f, beta=-%.4f pm %.4f\" % (Temp_const[0],Temp_const_err[0],Temp_const[2],Temp_const_err[2]))\n",
    "plt.grid()\n",
    "#plt.savefig(\"T_exc_power_law\",dpi=200)\n",
    "plt.show()"
   ]
  }
 ],
 "metadata": {
  "kernelspec": {
   "display_name": "Python 3 (ipykernel)",
   "language": "python",
   "name": "python3"
  },
  "language_info": {
   "codemirror_mode": {
    "name": "ipython",
    "version": 3
   },
   "file_extension": ".py",
   "mimetype": "text/x-python",
   "name": "python",
   "nbconvert_exporter": "python",
   "pygments_lexer": "ipython3",
   "version": "3.8.10"
  }
 },
 "nbformat": 4,
 "nbformat_minor": 5
}
